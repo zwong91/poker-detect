{
 "cells": [
  {
   "cell_type": "markdown",
   "id": "290103ef-f1f2-4f07-b1ea-41ee27bc8e67",
   "metadata": {},
   "source": [
    "# 训练日志和评估指标可视化\n",
    "\n",
    " 2024-08-18"
   ]
  },
  {
   "cell_type": "markdown",
   "id": "f6d65b13-b450-48f6-b673-a47a578ad40c",
   "metadata": {},
   "source": [
    "## 训练得到的模型权重文件\n",
    "\n",
    "最优模型：`Project_Name/Name/weights/best.pt`\n",
    "\n",
    "最终模型：`Project_Name/Name/weights/last.pt`"
   ]
  },
  {
   "cell_type": "markdown",
   "id": "e1f70067-0be4-4890-9f9a-5eba9b0229a2",
   "metadata": {},
   "source": [
    "## 数据集标注统计\n",
    "\n",
    "目标检测框的中心点位置分布、宽高分布：`labels.jpg`\n",
    "\n",
    "目标检测框的中心点X、中心点Y、宽、高相关分布：`labels_correlogram.jpg`"
   ]
  },
  {
   "cell_type": "markdown",
   "id": "7478fa6d-114f-4c5e-aa53-73ee094d5a24",
   "metadata": {},
   "source": [
    "## 训练集：某一个batch的标注可视化\n",
    "\n",
    "`train_batch0.jpg`\n",
    "\n",
    "`train_batch1.jpg`\n",
    "\n",
    "`train_batch2.jpg`"
   ]
  },
  {
   "cell_type": "markdown",
   "id": "00e29b5c-c255-4d54-9d15-f0511003d6fd",
   "metadata": {},
   "source": [
    "## 测试集：某一个batch的标注、预测结果可视化\n",
    "\n",
    "标注：`val_batch0_labels.jpg`\n",
    "\n",
    "预测结果：`val_batch0_pred.jpg`\n",
    "\n",
    "标注：`val_batch1_labels.jpg`\n",
    "\n",
    "预测结果：`val_batch1_pred.jpg`"
   ]
  },
  {
   "cell_type": "markdown",
   "id": "0c803400-17c8-4b40-bcf2-3964695d5af0",
   "metadata": {},
   "source": [
    "## 目标检测评估指标"
   ]
  },
  {
   "cell_type": "markdown",
   "id": "f0579bf6-e984-4f15-8803-80b4cf3b104c",
   "metadata": {},
   "source": [
    "不同置信度的Precision：`BoxP_curve.png`\n",
    "\n",
    "不同置信度的Recall：`BoxR_curve.png`\n",
    "\n",
    "不同置信度的PR曲线：`BoxPR_curve.png`\n",
    "\n",
    "不同置信度的F1：`BoxF1_curve.png`\n",
    "\n",
    "目标检测框混淆矩阵：`confusion_matrix.png`"
   ]
  },
  {
   "cell_type": "markdown",
   "id": "677301bf-862d-4edb-b52a-8553b65704db",
   "metadata": {},
   "source": [
    "## 关键点检测评估指标\n",
    "\n",
    "不同置信度的Precision：`PoseP_curve.png`\n",
    "\n",
    "不同置信度的Recall：`PoseR_curve.png`\n",
    "\n",
    "不同置信度的PR曲线：`PosePR_curve.png`\n",
    "\n",
    "不同置信度的F1：`PoseF1_curve.png`\n",
    "\n",
    "## 扩展阅读：机器学习分类评估指标\n",
    "\n",
    "手绘笔记讲解：\n",
    "\n",
    "混淆矩阵：\n",
    "\n",
    "\n",
    "ROC曲线：\n",
    "\n",
    "F1-score：\n",
    "\n",
    "F-beta-score："
   ]
  },
  {
   "cell_type": "markdown",
   "id": "3322b652-1aca-4c68-9823-ccf7f2946a52",
   "metadata": {},
   "source": [
    "## 训练日志\n",
    "\n",
    "训练过程中的损失函数、测试集评估指标：`results.csv`、`results.png`"
   ]
  },
  {
   "cell_type": "markdown",
   "id": "dafeb700-5a7e-47bb-98a2-43afab0f2b0b",
   "metadata": {},
   "source": [
    "## 损失函数、测试集评估指标可视化"
   ]
  },
  {
   "cell_type": "code",
   "execution_count": 14,
   "id": "fa2e5d32-e218-4ae3-bd9f-4f1868df8890",
   "metadata": {},
   "outputs": [],
   "source": [
    "# TensorBoard view result\n",
    "# TensorBoard: Start with 'tensorboard --logdir poker/n_pretrain', view at http://localhost:6006/\n",
    "# TensorBoard: Start with 'tensorboard --logdir poker/s_pretrain', view at http://localhost:6006/"
   ]
  },
  {
   "cell_type": "markdown",
   "id": "c9612b2b-e99c-4dee-a7b8-043e94001d99",
   "metadata": {},
   "source": [
    "### 导入工具包"
   ]
  },
  {
   "cell_type": "code",
   "execution_count": 1,
   "id": "232a33fd-c0a3-4383-a52f-225bdf66be01",
   "metadata": {},
   "outputs": [],
   "source": [
    "import os\n",
    "import pandas as pd\n",
    "\n",
    "import matplotlib.pyplot as plt\n",
    "%matplotlib inline"
   ]
  },
  {
   "cell_type": "code",
   "execution_count": 2,
   "id": "6c8c69f2-81a4-4e5f-81f1-e6698f9842ae",
   "metadata": {},
   "outputs": [
    {
     "name": "stdout",
     "output_type": "stream",
     "text": [
      "创建空文件夹 图表\n"
     ]
    }
   ],
   "source": [
    "# 创建 图表 文件夹，用于存放图表\n",
    "if not os.path.exists('图表'):\n",
    "    os.mkdir('图表')\n",
    "    print('创建空文件夹 图表')"
   ]
  },
  {
   "cell_type": "markdown",
   "id": "95ad21a7-058d-4768-b52c-a33f22eba329",
   "metadata": {},
   "source": [
    "### 设置matplotlib中文字体（如果中文显示为方框，重启kernel重新运行即可）"
   ]
  },
  {
   "cell_type": "code",
   "execution_count": 3,
   "id": "12f5d4c9-aa6c-41ce-9094-08118eb6fba1",
   "metadata": {},
   "outputs": [],
   "source": [
    "import matplotlib.pyplot as plt\n",
    "%matplotlib inline"
   ]
  },
  {
   "cell_type": "code",
   "execution_count": 4,
   "id": "875f443b-c943-42fe-bb3b-9dfbf01f28f8",
   "metadata": {},
   "outputs": [],
   "source": [
    "# # windows操作系统\n",
    "# plt.rcParams['font.sans-serif']=['SimHei']  # 用来正常显示中文标签 \n",
    "# plt.rcParams['axes.unicode_minus']=False  # 用来正常显示负号"
   ]
  },
  {
   "cell_type": "code",
   "execution_count": 5,
   "id": "b693a006-5a40-49b7-b1da-a2f4e822f140",
   "metadata": {},
   "outputs": [],
   "source": [
    "# Mac操作系统，参考 https://www.ngui.cc/51cto/show-727683.html\n",
    "# 下载 simhei.ttf 字体文件\n",
    "# !wget https://xxn/dataset/SimHei.ttf"
   ]
  },
  {
   "cell_type": "code",
   "execution_count": 6,
   "id": "ec933a1e-fb24-48ac-a945-69f2149c5301",
   "metadata": {},
   "outputs": [
    {
     "name": "stdout",
     "output_type": "stream",
     "text": [
      "/root/miniconda3/lib/python3.10/site-packages/matplotlib/mpl-data/fonts/ttf/SimHei.ttf: No such file or directory\n"
     ]
    }
   ],
   "source": [
    "# Linux操作系统\n",
    "# 如果报错 Unable to establish SSL connection.，重新运行本代码块即可\n",
    "!wget https://xx/dataset/SimHei.ttf -O /root/miniconda3/lib/python3.10/site-packages/matplotlib/mpl-data/fonts/ttf/SimHei.ttf --no-check-certificate\n",
    "!rm -rf /home/ubuntu/.cache/matplotlib\n",
    "\n",
    "import matplotlib\n",
    "import matplotlib.pyplot as plt\n",
    "%matplotlib inline\n",
    "matplotlib.rc(\"font\",family='SimHei') # 中文字体\n",
    "plt.rcParams['axes.unicode_minus']=False  # 用来正常显示负号"
   ]
  },
  {
   "cell_type": "code",
   "execution_count": 7,
   "id": "da0ce49d-5ff5-471d-b19e-4037a2e1dd20",
   "metadata": {
    "scrolled": true
   },
   "outputs": [
    {
     "name": "stderr",
     "output_type": "stream",
     "text": [
      "findfont: Font family 'SimHei' not found.\n",
      "findfont: Font family 'SimHei' not found.\n",
      "findfont: Font family 'SimHei' not found.\n",
      "findfont: Font family 'SimHei' not found.\n",
      "findfont: Font family 'SimHei' not found.\n",
      "findfont: Font family 'SimHei' not found.\n",
      "findfont: Font family 'SimHei' not found.\n",
      "findfont: Font family 'SimHei' not found.\n",
      "findfont: Font family 'SimHei' not found.\n",
      "findfont: Font family 'SimHei' not found.\n",
      "findfont: Font family 'SimHei' not found.\n",
      "findfont: Font family 'SimHei' not found.\n",
      "/root/miniconda3/envs/ultralytics/lib/python3.10/site-packages/IPython/core/pylabtools.py:170: UserWarning: Glyph 36724 (\\N{CJK UNIFIED IDEOGRAPH-8F74}) missing from font(s) DejaVu Sans.\n",
      "  fig.canvas.print_figure(bytes_io, **kw)\n",
      "findfont: Font family 'SimHei' not found.\n",
      "findfont: Font family 'SimHei' not found.\n",
      "/root/miniconda3/envs/ultralytics/lib/python3.10/site-packages/IPython/core/pylabtools.py:170: UserWarning: Glyph 20013 (\\N{CJK UNIFIED IDEOGRAPH-4E2D}) missing from font(s) DejaVu Sans.\n",
      "  fig.canvas.print_figure(bytes_io, **kw)\n",
      "/root/miniconda3/envs/ultralytics/lib/python3.10/site-packages/IPython/core/pylabtools.py:170: UserWarning: Glyph 25991 (\\N{CJK UNIFIED IDEOGRAPH-6587}) missing from font(s) DejaVu Sans.\n",
      "  fig.canvas.print_figure(bytes_io, **kw)\n",
      "/root/miniconda3/envs/ultralytics/lib/python3.10/site-packages/IPython/core/pylabtools.py:170: UserWarning: Glyph 23383 (\\N{CJK UNIFIED IDEOGRAPH-5B57}) missing from font(s) DejaVu Sans.\n",
      "  fig.canvas.print_figure(bytes_io, **kw)\n",
      "/root/miniconda3/envs/ultralytics/lib/python3.10/site-packages/IPython/core/pylabtools.py:170: UserWarning: Glyph 20307 (\\N{CJK UNIFIED IDEOGRAPH-4F53}) missing from font(s) DejaVu Sans.\n",
      "  fig.canvas.print_figure(bytes_io, **kw)\n",
      "/root/miniconda3/envs/ultralytics/lib/python3.10/site-packages/IPython/core/pylabtools.py:170: UserWarning: Glyph 27979 (\\N{CJK UNIFIED IDEOGRAPH-6D4B}) missing from font(s) DejaVu Sans.\n",
      "  fig.canvas.print_figure(bytes_io, **kw)\n",
      "/root/miniconda3/envs/ultralytics/lib/python3.10/site-packages/IPython/core/pylabtools.py:170: UserWarning: Glyph 35797 (\\N{CJK UNIFIED IDEOGRAPH-8BD5}) missing from font(s) DejaVu Sans.\n",
      "  fig.canvas.print_figure(bytes_io, **kw)\n",
      "findfont: Font family 'SimHei' not found.\n",
      "findfont: Font family 'SimHei' not found.\n",
      "findfont: Font family 'SimHei' not found.\n",
      "findfont: Font family 'SimHei' not found.\n",
      "findfont: Font family 'SimHei' not found.\n",
      "findfont: Font family 'SimHei' not found.\n",
      "findfont: Font family 'SimHei' not found.\n",
      "findfont: Font family 'SimHei' not found.\n",
      "findfont: Font family 'SimHei' not found.\n",
      "findfont: Font family 'SimHei' not found.\n",
      "findfont: Font family 'SimHei' not found.\n",
      "findfont: Font family 'SimHei' not found.\n",
      "findfont: Font family 'SimHei' not found.\n",
      "findfont: Font family 'SimHei' not found.\n",
      "findfont: Font family 'SimHei' not found.\n",
      "findfont: Font family 'SimHei' not found.\n",
      "findfont: Font family 'SimHei' not found.\n",
      "findfont: Font family 'SimHei' not found.\n",
      "findfont: Font family 'SimHei' not found.\n",
      "findfont: Font family 'SimHei' not found.\n",
      "findfont: Font family 'SimHei' not found.\n",
      "findfont: Font family 'SimHei' not found.\n",
      "findfont: Font family 'SimHei' not found.\n",
      "findfont: Font family 'SimHei' not found.\n",
      "findfont: Font family 'SimHei' not found.\n",
      "findfont: Font family 'SimHei' not found.\n",
      "findfont: Font family 'SimHei' not found.\n",
      "findfont: Font family 'SimHei' not found.\n",
      "findfont: Font family 'SimHei' not found.\n",
      "findfont: Font family 'SimHei' not found.\n",
      "findfont: Font family 'SimHei' not found.\n",
      "findfont: Font family 'SimHei' not found.\n",
      "findfont: Font family 'SimHei' not found.\n",
      "findfont: Font family 'SimHei' not found.\n",
      "findfont: Font family 'SimHei' not found.\n",
      "findfont: Font family 'SimHei' not found.\n",
      "findfont: Font family 'SimHei' not found.\n",
      "findfont: Font family 'SimHei' not found.\n",
      "findfont: Font family 'SimHei' not found.\n",
      "findfont: Font family 'SimHei' not found.\n",
      "findfont: Font family 'SimHei' not found.\n",
      "findfont: Font family 'SimHei' not found.\n",
      "findfont: Font family 'SimHei' not found.\n",
      "findfont: Font family 'SimHei' not found.\n",
      "findfont: Font family 'SimHei' not found.\n",
      "findfont: Font family 'SimHei' not found.\n",
      "findfont: Font family 'SimHei' not found.\n",
      "findfont: Font family 'SimHei' not found.\n",
      "findfont: Font family 'SimHei' not found.\n",
      "findfont: Font family 'SimHei' not found.\n",
      "findfont: Font family 'SimHei' not found.\n",
      "findfont: Font family 'SimHei' not found.\n",
      "findfont: Font family 'SimHei' not found.\n",
      "findfont: Font family 'SimHei' not found.\n",
      "findfont: Font family 'SimHei' not found.\n"
     ]
    },
    {
     "data": {
      "image/png": "[encoded data removed]",
      "text/plain": [
       "<Figure size 640x480 with 1 Axes>"
      ]
     },
     "metadata": {},
     "output_type": "display_data"
    }
   ],
   "source": [
    "plt.plot([1,2,3], [100,500,300])\n",
    "plt.title('matplotlib中文字体测试', fontsize=25)\n",
    "plt.xlabel('X轴', fontsize=15)\n",
    "plt.ylabel('Y轴', fontsize=15)\n",
    "plt.show()"
   ]
  },
  {
   "cell_type": "markdown",
   "id": "4acdea29-20d7-4ed9-9718-e21659cca998",
   "metadata": {},
   "source": [
    "### 载入训练日志文件"
   ]
  },
  {
   "cell_type": "code",
   "execution_count": 8,
   "id": "2204df0e-77e3-4701-abb6-c66316252260",
   "metadata": {},
   "outputs": [],
   "source": [
    "df = pd.read_csv('Triangle_215_test/n_pretrain/results.csv')\n",
    "df.columns = [each.strip() for each in df.columns]"
   ]
  },
  {
   "cell_type": "code",
   "execution_count": 9,
   "id": "b9e2c68a-077f-4d6a-ac09-70e6942fbe1a",
   "metadata": {},
   "outputs": [
    {
     "data": {
      "text/plain": [
       "(50, 22)"
      ]
     },
     "execution_count": 9,
     "metadata": {},
     "output_type": "execute_result"
    }
   ],
   "source": [
    "df.shape"
   ]
  },
  {
   "cell_type": "code",
   "execution_count": 10,
   "id": "48565195-c500-4dc4-a0d4-817801bc2766",
   "metadata": {},
   "outputs": [
    {
     "data": {
      "text/html": [
       "<div>\n",
       "<style scoped>\n",
       "    .dataframe tbody tr th:only-of-type {\n",
       "        vertical-align: middle;\n",
       "    }\n",
       "\n",
       "    .dataframe tbody tr th {\n",
       "        vertical-align: top;\n",
       "    }\n",
       "\n",
       "    .dataframe thead th {\n",
       "        text-align: right;\n",
       "    }\n",
       "</style>\n",
       "<table border=\"1\" class=\"dataframe\">\n",
       "  <thead>\n",
       "    <tr style=\"text-align: right;\">\n",
       "      <th></th>\n",
       "      <th>epoch</th>\n",
       "      <th>train/box_loss</th>\n",
       "      <th>train/pose_loss</th>\n",
       "      <th>train/kobj_loss</th>\n",
       "      <th>train/cls_loss</th>\n",
       "      <th>train/dfl_loss</th>\n",
       "      <th>metrics/precision(B)</th>\n",
       "      <th>metrics/recall(B)</th>\n",
       "      <th>metrics/mAP50(B)</th>\n",
       "      <th>metrics/mAP50-95(B)</th>\n",
       "      <th>...</th>\n",
       "      <th>metrics/mAP50(P)</th>\n",
       "      <th>metrics/mAP50-95(P)</th>\n",
       "      <th>val/box_loss</th>\n",
       "      <th>val/pose_loss</th>\n",
       "      <th>val/kobj_loss</th>\n",
       "      <th>val/cls_loss</th>\n",
       "      <th>val/dfl_loss</th>\n",
       "      <th>lr/pg0</th>\n",
       "      <th>lr/pg1</th>\n",
       "      <th>lr/pg2</th>\n",
       "    </tr>\n",
       "  </thead>\n",
       "  <tbody>\n",
       "    <tr>\n",
       "      <th>0</th>\n",
       "      <td>0</td>\n",
       "      <td>2.33690</td>\n",
       "      <td>5.2715</td>\n",
       "      <td>0.69313</td>\n",
       "      <td>3.37150</td>\n",
       "      <td>2.4480</td>\n",
       "      <td>0.16163</td>\n",
       "      <td>0.31707</td>\n",
       "      <td>0.11397</td>\n",
       "      <td>0.06038</td>\n",
       "      <td>...</td>\n",
       "      <td>0.04139</td>\n",
       "      <td>0.00527</td>\n",
       "      <td>1.93910</td>\n",
       "      <td>4.9412</td>\n",
       "      <td>0.64455</td>\n",
       "      <td>3.15890</td>\n",
       "      <td>2.1570</td>\n",
       "      <td>0.091000</td>\n",
       "      <td>0.001000</td>\n",
       "      <td>0.001000</td>\n",
       "    </tr>\n",
       "    <tr>\n",
       "      <th>1</th>\n",
       "      <td>1</td>\n",
       "      <td>1.22210</td>\n",
       "      <td>5.0516</td>\n",
       "      <td>0.69247</td>\n",
       "      <td>1.46180</td>\n",
       "      <td>1.4788</td>\n",
       "      <td>0.88887</td>\n",
       "      <td>0.82927</td>\n",
       "      <td>0.90199</td>\n",
       "      <td>0.69878</td>\n",
       "      <td>...</td>\n",
       "      <td>0.06621</td>\n",
       "      <td>0.00813</td>\n",
       "      <td>0.78902</td>\n",
       "      <td>4.8765</td>\n",
       "      <td>0.63972</td>\n",
       "      <td>0.73387</td>\n",
       "      <td>1.1421</td>\n",
       "      <td>0.081058</td>\n",
       "      <td>0.002058</td>\n",
       "      <td>0.002058</td>\n",
       "    </tr>\n",
       "    <tr>\n",
       "      <th>2</th>\n",
       "      <td>2</td>\n",
       "      <td>0.87738</td>\n",
       "      <td>4.7368</td>\n",
       "      <td>0.69223</td>\n",
       "      <td>0.86272</td>\n",
       "      <td>1.2198</td>\n",
       "      <td>0.94092</td>\n",
       "      <td>0.90244</td>\n",
       "      <td>0.95339</td>\n",
       "      <td>0.78762</td>\n",
       "      <td>...</td>\n",
       "      <td>0.10107</td>\n",
       "      <td>0.01057</td>\n",
       "      <td>0.63336</td>\n",
       "      <td>4.8262</td>\n",
       "      <td>0.61155</td>\n",
       "      <td>0.66877</td>\n",
       "      <td>1.0788</td>\n",
       "      <td>0.071073</td>\n",
       "      <td>0.003073</td>\n",
       "      <td>0.003073</td>\n",
       "    </tr>\n",
       "    <tr>\n",
       "      <th>3</th>\n",
       "      <td>3</td>\n",
       "      <td>0.78012</td>\n",
       "      <td>4.3940</td>\n",
       "      <td>0.67566</td>\n",
       "      <td>0.69369</td>\n",
       "      <td>1.1421</td>\n",
       "      <td>0.91604</td>\n",
       "      <td>0.93147</td>\n",
       "      <td>0.96051</td>\n",
       "      <td>0.80525</td>\n",
       "      <td>...</td>\n",
       "      <td>0.26278</td>\n",
       "      <td>0.02898</td>\n",
       "      <td>0.59287</td>\n",
       "      <td>4.5143</td>\n",
       "      <td>0.57483</td>\n",
       "      <td>0.62331</td>\n",
       "      <td>1.0297</td>\n",
       "      <td>0.061045</td>\n",
       "      <td>0.004045</td>\n",
       "      <td>0.004045</td>\n",
       "    </tr>\n",
       "    <tr>\n",
       "      <th>4</th>\n",
       "      <td>4</td>\n",
       "      <td>0.75859</td>\n",
       "      <td>3.8023</td>\n",
       "      <td>0.66782</td>\n",
       "      <td>0.64433</td>\n",
       "      <td>1.1138</td>\n",
       "      <td>0.96111</td>\n",
       "      <td>0.87805</td>\n",
       "      <td>0.95960</td>\n",
       "      <td>0.81275</td>\n",
       "      <td>...</td>\n",
       "      <td>0.64089</td>\n",
       "      <td>0.12292</td>\n",
       "      <td>0.61733</td>\n",
       "      <td>3.7908</td>\n",
       "      <td>0.55422</td>\n",
       "      <td>0.55015</td>\n",
       "      <td>1.0599</td>\n",
       "      <td>0.050972</td>\n",
       "      <td>0.004972</td>\n",
       "      <td>0.004972</td>\n",
       "    </tr>\n",
       "  </tbody>\n",
       "</table>\n",
       "<p>5 rows × 22 columns</p>\n",
       "</div>"
      ],
      "text/plain": [
       "   epoch  train/box_loss  train/pose_loss  train/kobj_loss  train/cls_loss  \\\n",
       "0      0         2.33690           5.2715          0.69313         3.37150   \n",
       "1      1         1.22210           5.0516          0.69247         1.46180   \n",
       "2      2         0.87738           4.7368          0.69223         0.86272   \n",
       "3      3         0.78012           4.3940          0.67566         0.69369   \n",
       "4      4         0.75859           3.8023          0.66782         0.64433   \n",
       "\n",
       "   train/dfl_loss  metrics/precision(B)  metrics/recall(B)  metrics/mAP50(B)  \\\n",
       "0          2.4480               0.16163            0.31707           0.11397   \n",
       "1          1.4788               0.88887            0.82927           0.90199   \n",
       "2          1.2198               0.94092            0.90244           0.95339   \n",
       "3          1.1421               0.91604            0.93147           0.96051   \n",
       "4          1.1138               0.96111            0.87805           0.95960   \n",
       "\n",
       "   metrics/mAP50-95(B)  ...  metrics/mAP50(P)  metrics/mAP50-95(P)  \\\n",
       "0              0.06038  ...           0.04139              0.00527   \n",
       "1              0.69878  ...           0.06621              0.00813   \n",
       "2              0.78762  ...           0.10107              0.01057   \n",
       "3              0.80525  ...           0.26278              0.02898   \n",
       "4              0.81275  ...           0.64089              0.12292   \n",
       "\n",
       "   val/box_loss  val/pose_loss  val/kobj_loss  val/cls_loss  val/dfl_loss  \\\n",
       "0       1.93910         4.9412        0.64455       3.15890        2.1570   \n",
       "1       0.78902         4.8765        0.63972       0.73387        1.1421   \n",
       "2       0.63336         4.8262        0.61155       0.66877        1.0788   \n",
       "3       0.59287         4.5143        0.57483       0.62331        1.0297   \n",
       "4       0.61733         3.7908        0.55422       0.55015        1.0599   \n",
       "\n",
       "     lr/pg0    lr/pg1    lr/pg2  \n",
       "0  0.091000  0.001000  0.001000  \n",
       "1  0.081058  0.002058  0.002058  \n",
       "2  0.071073  0.003073  0.003073  \n",
       "3  0.061045  0.004045  0.004045  \n",
       "4  0.050972  0.004972  0.004972  \n",
       "\n",
       "[5 rows x 22 columns]"
      ]
     },
     "execution_count": 10,
     "metadata": {},
     "output_type": "execute_result"
    }
   ],
   "source": [
    "df.head()"
   ]
  },
  {
   "cell_type": "code",
   "execution_count": 11,
   "id": "ae2efc4a-e464-43d9-a146-7ce27a52f3ac",
   "metadata": {},
   "outputs": [
    {
     "data": {
      "text/plain": [
       "Index(['epoch', 'train/box_loss', 'train/pose_loss', 'train/kobj_loss',\n",
       "       'train/cls_loss', 'train/dfl_loss', 'metrics/precision(B)',\n",
       "       'metrics/recall(B)', 'metrics/mAP50(B)', 'metrics/mAP50-95(B)',\n",
       "       'metrics/precision(P)', 'metrics/recall(P)', 'metrics/mAP50(P)',\n",
       "       'metrics/mAP50-95(P)', 'val/box_loss', 'val/pose_loss', 'val/kobj_loss',\n",
       "       'val/cls_loss', 'val/dfl_loss', 'lr/pg0', 'lr/pg1', 'lr/pg2'],\n",
       "      dtype='object')"
      ]
     },
     "execution_count": 11,
     "metadata": {},
     "output_type": "execute_result"
    }
   ],
   "source": [
    "df.columns"
   ]
  },
  {
   "cell_type": "markdown",
   "id": "3923f5c4-f36f-4224-8ffd-b68b89fc4985",
   "metadata": {},
   "source": [
    "### 可视化辅助函数"
   ]
  },
  {
   "cell_type": "code",
   "execution_count": 12,
   "id": "3f468a09-d222-4a50-966a-7e592f5ed039",
   "metadata": {},
   "outputs": [],
   "source": [
    "from matplotlib import colors as mcolors\n",
    "import random\n",
    "random.seed(124)\n",
    "colors = ['b', 'g', 'r', 'c', 'm', 'y', 'k', 'tab:blue', 'tab:orange', 'tab:green', 'tab:red', 'tab:purple', 'tab:brown', 'tab:pink', 'tab:gray', 'tab:olive', 'tab:cyan', 'black', 'indianred', 'brown', 'firebrick', 'maroon', 'darkred', 'red', 'sienna', 'chocolate', 'yellow', 'olivedrab', 'yellowgreen', 'darkolivegreen', 'forestgreen', 'limegreen', 'darkgreen', 'green', 'lime', 'seagreen', 'mediumseagreen', 'darkslategray', 'darkslategrey', 'teal', 'darkcyan', 'dodgerblue', 'navy', 'darkblue', 'mediumblue', 'blue', 'slateblue', 'darkslateblue', 'mediumslateblue', 'mediumpurple', 'rebeccapurple', 'blueviolet', 'indigo', 'darkorchid', 'darkviolet', 'mediumorchid', 'purple', 'darkmagenta', 'fuchsia', 'magenta', 'orchid', 'mediumvioletred', 'deeppink', 'hotpink']\n",
    "markers = [\".\",\",\",\"o\",\"v\",\"^\",\"<\",\">\",\"1\",\"2\",\"3\",\"4\",\"8\",\"s\",\"p\",\"P\",\"*\",\"h\",\"H\",\"+\",\"x\",\"X\",\"D\",\"d\",\"|\",\"_\",0,1,2,3,4,5,6,7,8,9,10,11]\n",
    "linestyle = ['--', '-.', '-']\n",
    "\n",
    "def get_line_arg():\n",
    "    '''\n",
    "    随机产生一种绘图线型\n",
    "    '''\n",
    "    line_arg = {}\n",
    "    line_arg['color'] = random.choice(colors)\n",
    "    # line_arg['marker'] = random.choice(markers)\n",
    "    line_arg['linestyle'] = random.choice(linestyle)\n",
    "    line_arg['linewidth'] = random.randint(1, 4)\n",
    "    # line_arg['markersize'] = random.randint(3, 5)\n",
    "    return line_arg"
   ]
  },
  {
   "cell_type": "markdown",
   "id": "ca6e37bb-8f24-4c63-85c6-08bdd5448abe",
   "metadata": {},
   "source": [
    "### 训练集损失函数"
   ]
  },
  {
   "cell_type": "code",
   "execution_count": 8,
   "id": "984d6b13-4082-4b5e-8ea1-4dee093022ef",
   "metadata": {},
   "outputs": [],
   "source": [
    "metrics = ['train/box_loss', 'train/pose_loss', 'train/kobj_loss', 'train/cls_loss', 'train/dfl_loss']"
   ]
  },
  {
   "cell_type": "code",
   "execution_count": 9,
   "id": "d9c217a6-7104-430e-bfc3-42b0e7673b53",
   "metadata": {},
   "outputs": [
    {
     "ename": "NameError",
     "evalue": "name 'df' is not defined",
     "output_type": "error",
     "traceback": [
      "\u001b[0;31m---------------------------------------------------------------------------\u001b[0m",
      "\u001b[0;31mNameError\u001b[0m                                 Traceback (most recent call last)",
      "Cell \u001b[0;32mIn[9], line 3\u001b[0m\n\u001b[1;32m      1\u001b[0m plt\u001b[38;5;241m.\u001b[39mfigure(figsize\u001b[38;5;241m=\u001b[39m(\u001b[38;5;241m16\u001b[39m, \u001b[38;5;241m8\u001b[39m))\n\u001b[0;32m----> 3\u001b[0m x \u001b[38;5;241m=\u001b[39m \u001b[43mdf\u001b[49m[\u001b[38;5;124m'\u001b[39m\u001b[38;5;124mepoch\u001b[39m\u001b[38;5;124m'\u001b[39m]\n\u001b[1;32m      4\u001b[0m \u001b[38;5;28;01mfor\u001b[39;00m y \u001b[38;5;129;01min\u001b[39;00m metrics:\n\u001b[1;32m      5\u001b[0m     plt\u001b[38;5;241m.\u001b[39mplot(x, df[y], label\u001b[38;5;241m=\u001b[39my, \u001b[38;5;241m*\u001b[39m\u001b[38;5;241m*\u001b[39mget_line_arg())\n",
      "\u001b[0;31mNameError\u001b[0m: name 'df' is not defined"
     ]
    },
    {
     "data": {
      "text/plain": [
       "<Figure size 1600x800 with 0 Axes>"
      ]
     },
     "metadata": {},
     "output_type": "display_data"
    }
   ],
   "source": [
    "plt.figure(figsize=(16, 8))\n",
    "\n",
    "x = df['epoch']\n",
    "for y in metrics:\n",
    "    plt.plot(x, df[y], label=y, **get_line_arg())\n",
    "\n",
    "plt.tick_params(labelsize=20)\n",
    "plt.xlabel('Epoch', fontsize=30)\n",
    "plt.ylabel('Loss', fontsize=30)\n",
    "plt.title('训练集损失函数', fontsize=25)\n",
    "plt.savefig('图表/训练集损失函数.pdf', dpi=120, bbox_inches='tight')\n",
    "\n",
    "plt.legend(fontsize=20)\n",
    "\n",
    "plt.show()"
   ]
  },
  {
   "cell_type": "markdown",
   "id": "2bd2e72a-537c-4442-a21f-68a810eeb9bf",
   "metadata": {},
   "source": [
    "### 测试集损失函数"
   ]
  },
  {
   "cell_type": "code",
   "execution_count": 24,
   "id": "bb1a23d6-69d6-4d9e-a5be-9bb4fc098e4e",
   "metadata": {},
   "outputs": [],
   "source": [
    "metrics = ['val/box_loss', 'val/pose_loss', 'val/kobj_loss', 'val/cls_loss', 'val/dfl_loss']"
   ]
  },
  {
   "cell_type": "code",
   "execution_count": 11,
   "id": "c37e80b8-8e80-42a9-a5e3-1d79daa5d967",
   "metadata": {},
   "outputs": [
    {
     "ename": "NameError",
     "evalue": "name 'df' is not defined",
     "output_type": "error",
     "traceback": [
      "\u001b[0;31m---------------------------------------------------------------------------\u001b[0m",
      "\u001b[0;31mNameError\u001b[0m                                 Traceback (most recent call last)",
      "Cell \u001b[0;32mIn[11], line 3\u001b[0m\n\u001b[1;32m      1\u001b[0m plt\u001b[38;5;241m.\u001b[39mfigure(figsize\u001b[38;5;241m=\u001b[39m(\u001b[38;5;241m16\u001b[39m, \u001b[38;5;241m8\u001b[39m))\n\u001b[0;32m----> 3\u001b[0m x \u001b[38;5;241m=\u001b[39m \u001b[43mdf\u001b[49m[\u001b[38;5;124m'\u001b[39m\u001b[38;5;124mepoch\u001b[39m\u001b[38;5;124m'\u001b[39m]\n\u001b[1;32m      4\u001b[0m \u001b[38;5;28;01mfor\u001b[39;00m y \u001b[38;5;129;01min\u001b[39;00m metrics:\n\u001b[1;32m      5\u001b[0m     plt\u001b[38;5;241m.\u001b[39mplot(x, df[y], label\u001b[38;5;241m=\u001b[39my, \u001b[38;5;241m*\u001b[39m\u001b[38;5;241m*\u001b[39mget_line_arg())\n",
      "\u001b[0;31mNameError\u001b[0m: name 'df' is not defined"
     ]
    },
    {
     "data": {
      "text/plain": [
       "<Figure size 1600x800 with 0 Axes>"
      ]
     },
     "metadata": {},
     "output_type": "display_data"
    }
   ],
   "source": [
    "plt.figure(figsize=(16, 8))\n",
    "\n",
    "x = df['epoch']\n",
    "for y in metrics:\n",
    "    plt.plot(x, df[y], label=y, **get_line_arg())\n",
    "\n",
    "plt.tick_params(labelsize=20)\n",
    "plt.xlabel('Epoch', fontsize=30)\n",
    "plt.ylabel('Loss', fontsize=30)\n",
    "plt.title('测试集损失函数', fontsize=25)\n",
    "plt.savefig('图表/测试集损失函数.pdf', dpi=120, bbox_inches='tight')\n",
    "\n",
    "plt.legend(fontsize=20)\n",
    "\n",
    "plt.show()"
   ]
  },
  {
   "cell_type": "markdown",
   "id": "07da512c-fa12-4137-a375-1466de775dcc",
   "metadata": {},
   "source": [
    "### 测试集评估指标-目标检测"
   ]
  },
  {
   "cell_type": "code",
   "execution_count": 26,
   "id": "11d871b7-3491-4184-ab50-772bd2a27d2b",
   "metadata": {},
   "outputs": [],
   "source": [
    "metrics = ['metrics/precision(B)', 'metrics/recall(B)', 'metrics/mAP50(B)', 'metrics/mAP50-95(B)']"
   ]
  },
  {
   "cell_type": "code",
   "execution_count": 12,
   "id": "96fc06e1-12e1-4620-8ae9-2f7f91714b1e",
   "metadata": {},
   "outputs": [
    {
     "ename": "NameError",
     "evalue": "name 'df' is not defined",
     "output_type": "error",
     "traceback": [
      "\u001b[0;31m---------------------------------------------------------------------------\u001b[0m",
      "\u001b[0;31mNameError\u001b[0m                                 Traceback (most recent call last)",
      "Cell \u001b[0;32mIn[12], line 3\u001b[0m\n\u001b[1;32m      1\u001b[0m plt\u001b[38;5;241m.\u001b[39mfigure(figsize\u001b[38;5;241m=\u001b[39m(\u001b[38;5;241m16\u001b[39m, \u001b[38;5;241m8\u001b[39m))\n\u001b[0;32m----> 3\u001b[0m x \u001b[38;5;241m=\u001b[39m \u001b[43mdf\u001b[49m[\u001b[38;5;124m'\u001b[39m\u001b[38;5;124mepoch\u001b[39m\u001b[38;5;124m'\u001b[39m]\n\u001b[1;32m      4\u001b[0m \u001b[38;5;28;01mfor\u001b[39;00m y \u001b[38;5;129;01min\u001b[39;00m metrics:\n\u001b[1;32m      5\u001b[0m     plt\u001b[38;5;241m.\u001b[39mplot(x, df[y], label\u001b[38;5;241m=\u001b[39my, \u001b[38;5;241m*\u001b[39m\u001b[38;5;241m*\u001b[39mget_line_arg())\n",
      "\u001b[0;31mNameError\u001b[0m: name 'df' is not defined"
     ]
    },
    {
     "data": {
      "text/plain": [
       "<Figure size 1600x800 with 0 Axes>"
      ]
     },
     "metadata": {},
     "output_type": "display_data"
    }
   ],
   "source": [
    "plt.figure(figsize=(16, 8))\n",
    "\n",
    "x = df['epoch']\n",
    "for y in metrics:\n",
    "    plt.plot(x, df[y], label=y, **get_line_arg())\n",
    "\n",
    "plt.tick_params(labelsize=20)\n",
    "plt.xlabel('Epoch', fontsize=30)\n",
    "plt.ylabel('Metrics', fontsize=30)\n",
    "plt.title('测试集评估指标-目标检测', fontsize=25)\n",
    "plt.savefig('图表/测试集评估指标-目标检测.pdf', dpi=120, bbox_inches='tight')\n",
    "\n",
    "plt.legend(fontsize=20)\n",
    "\n",
    "plt.show()"
   ]
  },
  {
   "cell_type": "markdown",
   "id": "e260714d-c7ab-43f0-8d4f-305c89950ffc",
   "metadata": {},
   "source": [
    "### 测试集评估指标-detect"
   ]
  },
  {
   "cell_type": "code",
   "execution_count": 28,
   "id": "26cf9165-1db3-4874-9ced-2424e7a91ea2",
   "metadata": {},
   "outputs": [],
   "source": [
    "metrics = ['metrics/precision(P)', 'metrics/recall(P)', 'metrics/mAP50(P)', 'metrics/mAP50-95(P)']"
   ]
  },
  {
   "cell_type": "code",
   "execution_count": 13,
   "id": "7e11ba4b-4475-4a23-983b-aac1d23175b2",
   "metadata": {},
   "outputs": [
    {
     "ename": "NameError",
     "evalue": "name 'df' is not defined",
     "output_type": "error",
     "traceback": [
      "\u001b[0;31m---------------------------------------------------------------------------\u001b[0m",
      "\u001b[0;31mNameError\u001b[0m                                 Traceback (most recent call last)",
      "Cell \u001b[0;32mIn[13], line 3\u001b[0m\n\u001b[1;32m      1\u001b[0m plt\u001b[38;5;241m.\u001b[39mfigure(figsize\u001b[38;5;241m=\u001b[39m(\u001b[38;5;241m16\u001b[39m, \u001b[38;5;241m8\u001b[39m))\n\u001b[0;32m----> 3\u001b[0m x \u001b[38;5;241m=\u001b[39m \u001b[43mdf\u001b[49m[\u001b[38;5;124m'\u001b[39m\u001b[38;5;124mepoch\u001b[39m\u001b[38;5;124m'\u001b[39m]\n\u001b[1;32m      4\u001b[0m \u001b[38;5;28;01mfor\u001b[39;00m y \u001b[38;5;129;01min\u001b[39;00m metrics:\n\u001b[1;32m      5\u001b[0m     plt\u001b[38;5;241m.\u001b[39mplot(x, df[y], label\u001b[38;5;241m=\u001b[39my, \u001b[38;5;241m*\u001b[39m\u001b[38;5;241m*\u001b[39mget_line_arg())\n",
      "\u001b[0;31mNameError\u001b[0m: name 'df' is not defined"
     ]
    },
    {
     "data": {
      "text/plain": [
       "<Figure size 1600x800 with 0 Axes>"
      ]
     },
     "metadata": {},
     "output_type": "display_data"
    }
   ],
   "source": [
    "plt.figure(figsize=(16, 8))\n",
    "\n",
    "x = df['epoch']\n",
    "for y in metrics:\n",
    "    plt.plot(x, df[y], label=y, **get_line_arg())\n",
    "\n",
    "plt.tick_params(labelsize=20)\n",
    "plt.xlabel('Epoch', fontsize=30)\n",
    "plt.ylabel('Metrics', fontsize=30)\n",
    "plt.title('测试集评估指标-detect', fontsize=25)\n",
    "plt.savefig('图表/测试集评估指标-detect.pdf', dpi=120, bbox_inches='tight')\n",
    "\n",
    "plt.legend(fontsize=20)\n",
    "\n",
    "plt.show()"
   ]
  },
  {
   "cell_type": "code",
   "execution_count": null,
   "id": "e5e43ee3-0808-4223-8cd3-c5c98df5581a",
   "metadata": {},
   "outputs": [],
   "source": []
  }
 ],
 "metadata": {
  "kernelspec": {
   "display_name": "ultralytics",
   "language": "python",
   "name": "python3"
  },
  "language_info": {
   "codemirror_mode": {
    "name": "ipython",
    "version": 3
   },
   "file_extension": ".py",
   "mimetype": "text/x-python",
   "name": "python",
   "nbconvert_exporter": "python",
   "pygments_lexer": "ipython3",
   "version": "3.10.14"
  }
 },
 "nbformat": 4,
 "nbformat_minor": 5
}
