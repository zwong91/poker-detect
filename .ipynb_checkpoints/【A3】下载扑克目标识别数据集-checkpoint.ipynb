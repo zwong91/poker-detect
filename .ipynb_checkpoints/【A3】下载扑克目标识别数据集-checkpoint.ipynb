{
 "cells": [
  {
   "cell_type": "markdown",
   "id": "cb1a1e40-d82b-4457-bec9-c6925030f095",
   "metadata": {},
   "source": [
    "# 下载扑克目标识别数据集\n",
    "\n",
    " 2024-08-15"
   ]
  },
  {
   "cell_type": "markdown",
   "id": "db1eaaf3-8e31-48a0-882e-fd40de53c631",
   "metadata": {},
   "source": [
    "## 下载数据集"
   ]
  },
  {
   "cell_type": "code",
   "execution_count": 13,
   "id": "af6d0d79-4371-436e-84fa-00fbb6205ee0",
   "metadata": {},
   "outputs": [
    {
     "name": "stdout",
     "output_type": "stream",
     "text": [
      "--2024-08-17 09:57:36--  https://poker.jongun2038.win/datasets/poker.yolo.zip\n",
      "Resolving poker.jongun2038.win (poker.jongun2038.win)... 104.21.46.177, 172.67.168.208, 2606:4700:3033::6815:2eb1, ...\n",
      "Connecting to poker.jongun2038.win (poker.jongun2038.win)|104.21.46.177|:443... connected.\n",
      "HTTP request sent, awaiting response... 404 Not Found\n",
      "2024-08-17 09:57:37 ERROR 404: Not Found.\n",
      "\n"
     ]
    }
   ],
   "source": [
    "# 下载数据集至 datasets 目录\n",
    "!rm -rf datasets/poker.yolo.zip datasets/poker.yolo\n",
    "!wget https://poker.jongun2038.win/datasets/poker.yolo.zip -P datasets"
   ]
  },
  {
   "cell_type": "markdown",
   "id": "38858435-c370-4ca0-87bc-111bddae02ec",
   "metadata": {},
   "source": [
    "## 解压数据集"
   ]
  },
  {
   "cell_type": "code",
   "execution_count": 14,
   "id": "084fe5ff-88fa-4f9b-94c1-33e1798383df",
   "metadata": {},
   "outputs": [],
   "source": [
    "# 解压\n",
    "!unzip datasets/poker.yolo.zip -d datasets >> /dev/null\n",
    "\n",
    "# 删除压缩包\n",
    "!rm -rf datasets/poker.yolo.zip"
   ]
  },
  {
   "cell_type": "markdown",
   "id": "e4ec3336-bfbe-4cdd-b025-162c44904471",
   "metadata": {},
   "source": [
    "## 下载yaml配置文件"
   ]
  },
  {
   "cell_type": "code",
   "execution_count": 3,
   "id": "da95fe9e-3f66-4b37-aa1d-07872985f0ca",
   "metadata": {},
   "outputs": [
    {
     "name": "stdout",
     "output_type": "stream",
     "text": [
      "--2023-04-28 11:16:31--  https://zihao-download.obs.cn-east-3.myhuaweicloud.com/yolov8/datasets/Triangle_215_Dataset/Triangle_215.yaml\n",
      "正在连接 172.16.0.13:5848... 已连接。\n",
      "已发出 Proxy 请求，正在等待回应... 200 OK\n",
      "长度： 483 [text/yaml]\n",
      "正在保存至: “Triangle_215.yaml”\n",
      "\n",
      "Triangle_215.yaml   100%[===================>]     483  --.-KB/s    用时 0s      \n",
      "\n",
      "2023-04-28 11:16:31 (33.7 MB/s) - 已保存 “Triangle_215.yaml” [483/483])\n",
      "\n"
     ]
    }
   ],
   "source": [
    "!wget https://poker.jongun2038.win/datasets/data.yaml"
   ]
  },
  {
   "cell_type": "markdown",
   "id": "7d45843a-0735-48f6-8337-fa923fe3a815",
   "metadata": {},
   "source": [
    "## 删除系统自动生成的多余文件"
   ]
  },
  {
   "cell_type": "markdown",
   "id": "b5f1c944-1497-4d3f-932c-d043a720c6a4",
   "metadata": {},
   "source": [
    "### 查看待删除的多余文件"
   ]
  },
  {
   "cell_type": "code",
   "execution_count": 15,
   "id": "cf7bd7ac-6682-4c65-8ce3-b1d52f942bf6",
   "metadata": {},
   "outputs": [
    {
     "name": "stdout",
     "output_type": "stream",
     "text": [
      "./datasets/__MACOSX\n"
     ]
    }
   ],
   "source": [
    "!find . -iname '__MACOSX'"
   ]
  },
  {
   "cell_type": "code",
   "execution_count": 16,
   "id": "9df449b0-782f-4376-8b05-c141979d0461",
   "metadata": {},
   "outputs": [
    {
     "name": "stdout",
     "output_type": "stream",
     "text": [
      "./datasets/pocker.yolo/.DS_Store\n"
     ]
    }
   ],
   "source": [
    "!find . -iname '.DS_Store'"
   ]
  },
  {
   "cell_type": "code",
   "execution_count": 17,
   "id": "f78dc839-548d-4b46-8338-368dcfee1821",
   "metadata": {},
   "outputs": [
    {
     "name": "stdout",
     "output_type": "stream",
     "text": [
      "./.ipynb_checkpoints\n"
     ]
    }
   ],
   "source": [
    "!find . -iname '.ipynb_checkpoints'"
   ]
  },
  {
   "cell_type": "markdown",
   "id": "7ec649ab-d3d4-451e-986e-d87720f73a5e",
   "metadata": {},
   "source": [
    "### 删除多余文件"
   ]
  },
  {
   "cell_type": "code",
   "execution_count": 1,
   "id": "0d853448-0e94-4216-9699-30dd835c56ed",
   "metadata": {},
   "outputs": [],
   "source": [
    "!for i in `find . -iname '__MACOSX'`; do rm -rf $i;done"
   ]
  },
  {
   "cell_type": "code",
   "execution_count": 2,
   "id": "dfbf99c9-ef2b-4d4c-b2a3-8f568f2b9ec0",
   "metadata": {},
   "outputs": [],
   "source": [
    "!for i in `find . -iname '.DS_Store'`; do rm -rf $i;done"
   ]
  },
  {
   "cell_type": "code",
   "execution_count": 3,
   "id": "9debf0ea-f96b-41b8-8a36-ba6909fdcec1",
   "metadata": {},
   "outputs": [],
   "source": [
    "!for i in `find . -iname '.ipynb_checkpoints'`; do rm -rf $i;done"
   ]
  },
  {
   "cell_type": "markdown",
   "id": "ce08b044-b71e-463a-9122-7eccdc00004d",
   "metadata": {},
   "source": [
    "### 验证多余文件已删除"
   ]
  },
  {
   "cell_type": "code",
   "execution_count": 4,
   "id": "ad67020c-1abc-4468-ab9f-9f79e27e4821",
   "metadata": {},
   "outputs": [],
   "source": [
    "!find . -iname '__MACOSX'"
   ]
  },
  {
   "cell_type": "code",
   "execution_count": 5,
   "id": "5d5beb04-183a-4c22-b1d2-77a80c131a0e",
   "metadata": {},
   "outputs": [],
   "source": [
    "!find . -iname '.DS_Store'"
   ]
  },
  {
   "cell_type": "code",
   "execution_count": 6,
   "id": "ab2b69fe-bf09-4cea-add8-fbc56bafde8e",
   "metadata": {},
   "outputs": [],
   "source": [
    "!find . -iname '.ipynb_checkpoints'"
   ]
  },
  {
   "cell_type": "markdown",
   "id": "f87b06b8-27ba-453d-9a53-1fd917be2df4",
   "metadata": {},
   "source": [
    "## 查看目录结构"
   ]
  },
  {
   "cell_type": "code",
   "execution_count": 7,
   "id": "34d87e0f-a21a-47f3-a8a8-c5ffa67d328e",
   "metadata": {},
   "outputs": [
    {
     "name": "stdout",
     "output_type": "stream",
     "text": [
      "📁 poker-vision/\n",
      "├─📁 .git/\n",
      "│ ├─📁 branches/\n",
      "│ ├─📄 description\n",
      "│ ├─📁 hooks/\n",
      "│ │ ├─📄 applypatch-msg.sample\n",
      "│ │ ├─📄 commit-msg.sample\n",
      "│ │ ├─📄 fsmonitor-watchman.sample\n",
      "│ │ ├─📄 post-update.sample\n",
      "│ │ ├─📄 pre-applypatch.sample\n",
      "│ │ ├─📄 pre-commit.sample\n",
      "│ │ ├─📄 pre-merge-commit.sample\n",
      "│ │ ├─📄 pre-push.sample\n",
      "│ │ ├─📄 pre-rebase.sample\n",
      "│ │ ├─📄 pre-receive.sample\n",
      "│ │ ├─📄 prepare-commit-msg.sample\n",
      "│ │ ├─📄 push-to-checkout.sample\n",
      "│ │ └─📄 update.sample\n",
      "│ ├─📁 info/\n",
      "│ │ └─📄 exclude\n",
      "│ ├─📁 refs/\n",
      "│ │ ├─📁 heads/\n",
      "│ │ ├─📁 tags/\n",
      "│ │ └─📁 remotes/\n",
      "│ ├─📄 HEAD\n",
      "│ ├─📄 config\n",
      "│ ├─📁 objects/\n",
      "│ │ ├─📁 pack/\n",
      "│ │ └─📁 info/\n",
      "│ ├─📄 packed-refs\n",
      "│ ├─📁 logs/\n",
      "│ │ ├─📁 refs/\n",
      "│ │ └─📄 HEAD\n",
      "│ └─📄 index\n",
      "├─📄 README.md\n",
      "├─📄 data.yaml\n",
      "├─📁 datasets/\n",
      "│ ├─📄 poker.voc.zip\n",
      "│ └─📁 poker.voc/\n",
      "│   ├─📁 test/\n",
      "│   ├─📄 train.txt\n",
      "│   ├─📄 convert_voc_to_yolo.py\n",
      "│   ├─📄 data.yaml\n",
      "│   ├─📁 train/\n",
      "│   ├─📄 test.txt\n",
      "│   ├─📄 val.txt\n",
      "│   └─📁 val/\n",
      "├─📄 test.txt\n",
      "├─📁 videos/\n",
      "│ └─📄 poker.mov\n",
      "├─📄 【A1】关于本教程.ipynb\n",
      "├─📄 【A2】安装配置YOLOV8环境.ipynb\n",
      "├─📄 【A3】下载扑克目标识别数据集.ipynb\n",
      "├─📄 【B】YOLOV8训练参数介绍.ipynb\n",
      "├─📄 【C】训练扑克目标识别模型.ipynb\n",
      "├─📄 【D】训练日志和评估指标可视化.ipynb\n",
      "├─📄 【Z】思考与扩展.ipynb\n",
      "└─📄 yolov8n-pretrain.pt\n"
     ]
    }
   ],
   "source": [
    "import seedir as sd\n",
    "sd.seedir('.', style='emoji', depthlimit=3)"
   ]
  },
  {
   "cell_type": "markdown",
   "id": "c2c35073",
   "metadata": {},
   "source": [
    "## Clubs         梅花\n",
    "## Diamonds      方块\n",
    "## Hearts        红桃\n",
    "## Spades        黑桃\n",
    "\n",
    "- cls: 0, poker: 10梅花\n",
    "- cls: 1, poker: 10方块\n",
    "- cls: 2, poker: 10红桃\n",
    "- cls: 3, poker: 10黑桃\n",
    "- cls: 4, poker: 2梅花\n",
    "- cls: 5, poker: 2方块\n",
    "- cls: 6, poker: 2红桃\n",
    "- cls: 7, poker: 2黑桃\n",
    "- cls: 8, poker: 3梅花\n",
    "- cls: 9, poker: 3方块\n",
    "- cls: 10, poker: 3红桃\n",
    "- cls: 11, poker: 3黑桃\n",
    "- cls: 12, poker: 4梅花\n",
    "- cls: 13, poker: 4方块\n",
    "- cls: 14, poker: 4红桃\n",
    "- cls: 15, poker: 4黑桃\n",
    "- cls: 16, poker: 5梅花\n",
    "- cls: 17, poker: 5方块\n",
    "- cls: 18, poker: 5红桃\n",
    "- cls: 19, poker: 5黑桃\n",
    "- cls: 21, poker: 6方块\n",
    "- cls: 22, poker: 6红桃\n",
    "- cls: 23, poker: 6黑桃\n",
    "- cls: 24, poker: 7梅花\n",
    "- cls: 25, poker: 7方块\n",
    "- cls: 26, poker: 7红桃\n",
    "- cls: 27, poker: 7黑桃\n",
    "- cls: 28, poker: 8梅花\n",
    "- cls: 29, poker: 8方块\n",
    "- cls: 30, poker: 8红桃\n",
    "- cls: 31, poker: 8黑桃\n",
    "- cls: 32, poker: 9梅花\n",
    "- cls: 33, poker: 9方块\n",
    "- cls: 34, poker: 9红桃\n",
    "- cls: 35, poker: 9黑桃\n",
    "- cls: 36, poker: A梅花\n",
    "- cls: 37, poker: A方块\n",
    "- cls: 38, poker: A红桃\n",
    "- cls: 39, poker: A黑桃\n",
    "- cls: 40, poker: J梅花\n",
    "- cls: 41, poker: J方块\n",
    "- cls: 42, poker: J红桃\n",
    "- cls: 43, poker: J黑桃\n",
    "- cls: 44, poker: K梅花\n",
    "- cls: 45, poker: K方块\n",
    "- cls: 46, poker: K红桃\n",
    "- cls: 47, poker: K黑桃\n",
    "- cls: 48, poker: Q梅花\n",
    "- cls: 49, poker: Q方块\n",
    "- cls: 50, poker: Q红桃\n",
    "- cls: 51, poker: Q黑桃\n",
    "- cls: 52, poker: 小王\n",
    "- cls: 53, poker: 大王"
   ]
  },
  {
   "cell_type": "code",
   "execution_count": 2,
   "id": "6d733ad1-d582-4aae-bfb4-5afb90ddd90b",
   "metadata": {},
   "outputs": [
    {
     "name": "stdout",
     "output_type": "stream",
     "text": [
      "Starting HUB dataset checks for /workspace/train_custom_data_yolov8.zip....\n",
      "WARNING ⚠️ Skipping /workspace/train_custom_data_yolov8.zip unzip as destination directory /workspace/train_custom_data_yolov8 is not empty.\n"
     ]
    },
    {
     "ename": "AssertionError",
     "evalue": "Expected 1 YAML file in '/workspace/train_custom_data_yolov8', but found 0.\n[]",
     "output_type": "error",
     "traceback": [
      "\u001b[0;31m---------------------------------------------------------------------------\u001b[0m",
      "\u001b[0;31mAssertionError\u001b[0m                            Traceback (most recent call last)",
      "Cell \u001b[0;32mIn[2], line 3\u001b[0m\n\u001b[1;32m      1\u001b[0m \u001b[38;5;66;03m# check upload-dataset\u001b[39;00m\n\u001b[1;32m      2\u001b[0m \u001b[38;5;28;01mfrom\u001b[39;00m \u001b[38;5;21;01multralytics\u001b[39;00m\u001b[38;5;21;01m.\u001b[39;00m\u001b[38;5;21;01mhub\u001b[39;00m \u001b[38;5;28;01mimport\u001b[39;00m check_dataset\n\u001b[0;32m----> 3\u001b[0m \u001b[43mcheck_dataset\u001b[49m\u001b[43m(\u001b[49m\u001b[38;5;124;43m\"\u001b[39;49m\u001b[38;5;124;43m/workspace/train_custom_data_yolov8.zip\u001b[39;49m\u001b[38;5;124;43m\"\u001b[39;49m\u001b[43m,\u001b[49m\u001b[43m \u001b[49m\u001b[43mtask\u001b[49m\u001b[38;5;241;43m=\u001b[39;49m\u001b[38;5;124;43m\"\u001b[39;49m\u001b[38;5;124;43mdetect\u001b[39;49m\u001b[38;5;124;43m\"\u001b[39;49m\u001b[43m)\u001b[49m\n",
      "File \u001b[0;32m~/miniconda3/envs/ultralytics/lib/python3.10/site-packages/ultralytics/hub/__init__.py:146\u001b[0m, in \u001b[0;36mcheck_dataset\u001b[0;34m(path, task)\u001b[0m\n\u001b[1;32m    124\u001b[0m \u001b[38;5;28;01mdef\u001b[39;00m \u001b[38;5;21mcheck_dataset\u001b[39m(path: \u001b[38;5;28mstr\u001b[39m, task: \u001b[38;5;28mstr\u001b[39m) \u001b[38;5;241m-\u001b[39m\u001b[38;5;241m>\u001b[39m \u001b[38;5;28;01mNone\u001b[39;00m:\n\u001b[1;32m    125\u001b[0m \u001b[38;5;250m    \u001b[39m\u001b[38;5;124;03m\"\"\"\u001b[39;00m\n\u001b[1;32m    126\u001b[0m \u001b[38;5;124;03m    Function for error-checking HUB dataset Zip file before upload. It checks a dataset for errors before it is uploaded\u001b[39;00m\n\u001b[1;32m    127\u001b[0m \u001b[38;5;124;03m    to the HUB. Usage examples are given below.\u001b[39;00m\n\u001b[0;32m   (...)\u001b[0m\n\u001b[1;32m    144\u001b[0m \u001b[38;5;124;03m        ```\u001b[39;00m\n\u001b[1;32m    145\u001b[0m \u001b[38;5;124;03m    \"\"\"\u001b[39;00m\n\u001b[0;32m--> 146\u001b[0m     \u001b[43mHUBDatasetStats\u001b[49m\u001b[43m(\u001b[49m\u001b[43mpath\u001b[49m\u001b[38;5;241;43m=\u001b[39;49m\u001b[43mpath\u001b[49m\u001b[43m,\u001b[49m\u001b[43m \u001b[49m\u001b[43mtask\u001b[49m\u001b[38;5;241;43m=\u001b[39;49m\u001b[43mtask\u001b[49m\u001b[43m)\u001b[49m\u001b[38;5;241m.\u001b[39mget_json()\n\u001b[1;32m    147\u001b[0m     LOGGER\u001b[38;5;241m.\u001b[39minfo(\u001b[38;5;124mf\u001b[39m\u001b[38;5;124m\"\u001b[39m\u001b[38;5;124mChecks completed correctly ✅. Upload this dataset to \u001b[39m\u001b[38;5;132;01m{\u001b[39;00mHUB_WEB_ROOT\u001b[38;5;132;01m}\u001b[39;00m\u001b[38;5;124m/datasets/.\u001b[39m\u001b[38;5;124m\"\u001b[39m)\n",
      "File \u001b[0;32m~/miniconda3/envs/ultralytics/lib/python3.10/site-packages/ultralytics/data/utils.py:463\u001b[0m, in \u001b[0;36mHUBDatasetStats.__init__\u001b[0;34m(self, path, task, autodownload)\u001b[0m\n\u001b[1;32m    461\u001b[0m     data[\u001b[38;5;124m\"\u001b[39m\u001b[38;5;124mpath\u001b[39m\u001b[38;5;124m\"\u001b[39m] \u001b[38;5;241m=\u001b[39m unzip_dir\n\u001b[1;32m    462\u001b[0m \u001b[38;5;28;01melse\u001b[39;00m:  \u001b[38;5;66;03m# detect, segment, pose\u001b[39;00m\n\u001b[0;32m--> 463\u001b[0m     _, data_dir, yaml_path \u001b[38;5;241m=\u001b[39m \u001b[38;5;28;43mself\u001b[39;49m\u001b[38;5;241;43m.\u001b[39;49m\u001b[43m_unzip\u001b[49m\u001b[43m(\u001b[49m\u001b[43mPath\u001b[49m\u001b[43m(\u001b[49m\u001b[43mpath\u001b[49m\u001b[43m)\u001b[49m\u001b[43m)\u001b[49m\n\u001b[1;32m    464\u001b[0m     \u001b[38;5;28;01mtry\u001b[39;00m:\n\u001b[1;32m    465\u001b[0m         \u001b[38;5;66;03m# Load YAML with checks\u001b[39;00m\n\u001b[1;32m    466\u001b[0m         data \u001b[38;5;241m=\u001b[39m yaml_load(yaml_path)\n",
      "File \u001b[0;32m~/miniconda3/envs/ultralytics/lib/python3.10/site-packages/ultralytics/data/utils.py:488\u001b[0m, in \u001b[0;36mHUBDatasetStats._unzip\u001b[0;34m(path)\u001b[0m\n\u001b[1;32m    484\u001b[0m unzip_dir \u001b[38;5;241m=\u001b[39m unzip_file(path, path\u001b[38;5;241m=\u001b[39mpath\u001b[38;5;241m.\u001b[39mparent)\n\u001b[1;32m    485\u001b[0m \u001b[38;5;28;01massert\u001b[39;00m unzip_dir\u001b[38;5;241m.\u001b[39mis_dir(), (\n\u001b[1;32m    486\u001b[0m     \u001b[38;5;124mf\u001b[39m\u001b[38;5;124m\"\u001b[39m\u001b[38;5;124mError unzipping \u001b[39m\u001b[38;5;132;01m{\u001b[39;00mpath\u001b[38;5;132;01m}\u001b[39;00m\u001b[38;5;124m, \u001b[39m\u001b[38;5;132;01m{\u001b[39;00munzip_dir\u001b[38;5;132;01m}\u001b[39;00m\u001b[38;5;124m not found. \u001b[39m\u001b[38;5;124m\"\u001b[39m \u001b[38;5;124mf\u001b[39m\u001b[38;5;124m\"\u001b[39m\u001b[38;5;124mpath/to/abc.zip MUST unzip to path/to/abc/\u001b[39m\u001b[38;5;124m\"\u001b[39m\n\u001b[1;32m    487\u001b[0m )\n\u001b[0;32m--> 488\u001b[0m \u001b[38;5;28;01mreturn\u001b[39;00m \u001b[38;5;28;01mTrue\u001b[39;00m, \u001b[38;5;28mstr\u001b[39m(unzip_dir), \u001b[43mfind_dataset_yaml\u001b[49m\u001b[43m(\u001b[49m\u001b[43munzip_dir\u001b[49m\u001b[43m)\u001b[49m\n",
      "File \u001b[0;32m~/miniconda3/envs/ultralytics/lib/python3.10/site-packages/ultralytics/data/utils.py:249\u001b[0m, in \u001b[0;36mfind_dataset_yaml\u001b[0;34m(path)\u001b[0m\n\u001b[1;32m    247\u001b[0m \u001b[38;5;28;01mif\u001b[39;00m \u001b[38;5;28mlen\u001b[39m(files) \u001b[38;5;241m>\u001b[39m \u001b[38;5;241m1\u001b[39m:\n\u001b[1;32m    248\u001b[0m     files \u001b[38;5;241m=\u001b[39m [f \u001b[38;5;28;01mfor\u001b[39;00m f \u001b[38;5;129;01min\u001b[39;00m files \u001b[38;5;28;01mif\u001b[39;00m f\u001b[38;5;241m.\u001b[39mstem \u001b[38;5;241m==\u001b[39m path\u001b[38;5;241m.\u001b[39mstem]  \u001b[38;5;66;03m# prefer *.yaml files that match\u001b[39;00m\n\u001b[0;32m--> 249\u001b[0m \u001b[38;5;28;01massert\u001b[39;00m \u001b[38;5;28mlen\u001b[39m(files) \u001b[38;5;241m==\u001b[39m \u001b[38;5;241m1\u001b[39m, \u001b[38;5;124mf\u001b[39m\u001b[38;5;124m\"\u001b[39m\u001b[38;5;124mExpected 1 YAML file in \u001b[39m\u001b[38;5;124m'\u001b[39m\u001b[38;5;132;01m{\u001b[39;00mpath\u001b[38;5;241m.\u001b[39mresolve()\u001b[38;5;132;01m}\u001b[39;00m\u001b[38;5;124m'\u001b[39m\u001b[38;5;124m, but found \u001b[39m\u001b[38;5;132;01m{\u001b[39;00m\u001b[38;5;28mlen\u001b[39m(files)\u001b[38;5;132;01m}\u001b[39;00m\u001b[38;5;124m.\u001b[39m\u001b[38;5;130;01m\\n\u001b[39;00m\u001b[38;5;132;01m{\u001b[39;00mfiles\u001b[38;5;132;01m}\u001b[39;00m\u001b[38;5;124m\"\u001b[39m\n\u001b[1;32m    250\u001b[0m \u001b[38;5;28;01mreturn\u001b[39;00m files[\u001b[38;5;241m0\u001b[39m]\n",
      "\u001b[0;31mAssertionError\u001b[0m: Expected 1 YAML file in '/workspace/train_custom_data_yolov8', but found 0.\n[]"
     ]
    }
   ],
   "source": [
    "# check upload-dataset\n",
    "from ultralytics.hub import check_dataset\n",
    "check_dataset(\"/workspace/train_custom_data_yolov8.zip\", task=\"detect\")"
   ]
  },
  {
   "cell_type": "code",
   "execution_count": null,
   "id": "48730cbc-6988-43c4-87ac-d2bceb48071f",
   "metadata": {},
   "outputs": [],
   "source": []
  }
 ],
 "metadata": {
  "kernelspec": {
   "display_name": "conda & pytorch(Ultralytics YOLOv8.2)",
   "language": "python",
   "name": "ultralytics"
  },
  "language_info": {
   "codemirror_mode": {
    "name": "ipython",
    "version": 3
   },
   "file_extension": ".py",
   "mimetype": "text/x-python",
   "name": "python",
   "nbconvert_exporter": "python",
   "pygments_lexer": "ipython3",
   "version": "3.10.14"
  }
 },
 "nbformat": 4,
 "nbformat_minor": 5
}
