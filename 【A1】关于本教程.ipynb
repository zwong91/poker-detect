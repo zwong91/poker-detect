{
 "cells": [
  {
   "cell_type": "markdown",
   "id": "6d8cddd7-fd32-465f-8231-5238b932c7ff",
   "metadata": {},
   "source": [
    "# 关于本教程\n",
    "\n",
    "2024-08-15\n",
    "\n",
    "## 概述\n",
    "\n",
    "计算机视觉YOLOV8开源之后，成为了目标检测、目标追踪、实例分割、图像分类、人体姿态估计、关键点检测等领域的新标杆。\n",
    "\n",
    "本教程系统讲解了使用YOLOV8完成推理预测、数据集构建、模型训练、性能评估、终端部署的全流程。\n",
    "\n",
    "你也可以站在YOLOV8巨人的肩膀上，解决各行各业的计算机视觉应用。\n",
    "\n",
    "代码教程：https://github.com/zwong91/poker-vision/\n",
    "\n",
    "- 安装配置YOLOV8环境\n",
    "\n",
    "- 预训练模型推理预测：单张图像、视频、摄像头实时画面\n",
    "\n",
    "- 标注自己的目标检测、实例分割、关键点检测数据集\n",
    "\n",
    "- 训练自己的YOLOV8算法：目标检测、目标追踪、实例分割、关键点检测\n",
    "\n",
    "- 模型推理预测：单张图像、视频、摄像头实时画面\n",
    "\n",
    "- 评估模型性能：速度与精度评估\n",
    "\n",
    "- 模型终端部署：转ONNX格式、移动端部署、树莓派部署\n"
   ]
  },
  {
   "cell_type": "markdown",
   "id": "7367189b",
   "metadata": {},
   "source": [
    "# minicoda3 & Cuda 12.1 & py3.10"
   ]
  },
  {
   "cell_type": "code",
   "execution_count": 1,
   "id": "ecccb130-63f8-4be6-b318-be7650b8144f",
   "metadata": {},
   "outputs": [
    {
     "ename": "SyntaxError",
     "evalue": "invalid syntax (3058008946.py, line 3)",
     "output_type": "error",
     "traceback": [
      "\u001b[0;36m  Cell \u001b[0;32mIn[1], line 3\u001b[0;36m\u001b[0m\n\u001b[0;31m    mkdir -p ~/miniconda3\u001b[0m\n\u001b[0m             ^\u001b[0m\n\u001b[0;31mSyntaxError\u001b[0m\u001b[0;31m:\u001b[0m invalid syntax\n"
     ]
    }
   ],
   "source": [
    "# pre-instsall.sh\n",
    "## 安装 miniconda, PyTorch/CUDA 的 conda 环境\n",
    "mkdir -p ~/miniconda3\n",
    "wget https://repo.anaconda.com/miniconda/Miniconda3-latest-Linux-x86_64.sh -O ~/miniconda3/miniconda.sh\n",
    "bash ~/miniconda3/miniconda.sh -b -u -p ~/miniconda3\n",
    "rm -rf ~/miniconda3/miniconda.sh\n",
    "~/miniconda3/bin/conda init bash && source ~/miniconda3/bin/activate\n",
    "conda config --set auto_activate_base false\n",
    "conda create -n hello python=3.10 -y\n",
    "conda activate hello\n",
    "## conda environments:\n",
    "conda env list                      \n",
    "nvidia-smi\n",
    "pip install transformers datasets evaluate peft accelerate gradio optimum sentencepiece bitsandbytes\n",
    "pip install jupyterlab scikit-learn pandas matplotlib tensorboard nitk rouge\n",
    "pip install jupyter ipykernel tensorboard huggingface_hub hub-sdk\n",
    "python -m ipykernel install --user --name hello --display-name \"conda & pytorch(Ultralytics YOLOv8.2)\"\n",
    "\n",
    "# Cloud GPUs 默认自带Pytorch， Cuda 12.1"
   ]
  },
  {
   "cell_type": "code",
   "execution_count": null,
   "id": "dbd09ed7",
   "metadata": {},
   "outputs": [],
   "source": [
    "import os\n",
    "\n",
    "def batch_rename_files(directory, prefix):\n",
    "    \"\"\"\n",
    "    批量重命名文件夹中的所有文件。\n",
    "\n",
    "    :param directory: 文件夹路径\n",
    "    :param prefix: 新文件名前缀\n",
    "    \"\"\"\n",
    "    for count, filename in enumerate(os.listdir(directory)):\n",
    "        # 获取文件扩展名\n",
    "        file_extension = os.path.splitext(filename)[1]\n",
    "        # 构造新的文件名\n",
    "        new_filename = f\"{prefix}_{count}{file_extension}\"\n",
    "        # 获取旧文件和新文件的完整路径\n",
    "        old_file = os.path.join(directory, filename)\n",
    "        new_file = os.path.join(directory, new_filename)\n",
    "        # 重命名文件\n",
    "        os.rename(old_file, new_file)\n",
    "        print(f\"重命名: {old_file} -> {new_file}\")\n",
    "\n",
    "# 使用示例\n",
    "directory_path = \"/Users/es/Documents/视频480FPS\"  # 替换为你的文件夹路径\n",
    "file_prefix = \"p\"  # 替换为你想要的新文件名前缀\n",
    "batch_rename_files(directory_path, file_prefix)"
   ]
  }
 ],
 "metadata": {
  "kernelspec": {
   "display_name": "Python 3 (ipykernel)",
   "language": "python",
   "name": "python3"
  },
  "language_info": {
   "codemirror_mode": {
    "name": "ipython",
    "version": 3
   },
   "file_extension": ".py",
   "mimetype": "text/x-python",
   "name": "python",
   "nbconvert_exporter": "python",
   "pygments_lexer": "ipython3",
   "version": "3.10.14"
  }
 },
 "nbformat": 4,
 "nbformat_minor": 5
}
